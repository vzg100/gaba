{
 "cells": [
  {
   "cell_type": "code",
   "execution_count": null,
   "metadata": {},
   "outputs": [],
   "source": [
    "import pandas as pd\n",
    "from Bio import SeqIO\n",
    "from Bio.ExPASy import ScanProsite"
   ]
  },
  {
   "cell_type": "code",
   "execution_count": null,
   "metadata": {},
   "outputs": [],
   "source": [
    "#Read your blast results csv in\n",
    "df = pd.read_csv(\\\"C:\\Users\\cmgro\\Downloads\\PATRIC_genome (2).csv\")\n",
    "    #Show the first 5 rows\n",
    "    print(df.head())\n",
    "    Temp lists to attatch variables\n",
    "    ids = []\n",
    "    seqs = []\n",
    "    #Seq.IO.parse is. an easy way to read through every gene/prot in a fasta file \n",
    "    for record in SeqIO.parse(\\\"/Users/mark/Downloads/blast_results.fasta\\\", \\\"fasta\\\"):\n",
    "        # So the fasta ID line is fig|1240239.3.peg.2328|XFF4834R_chr22840|VBIXanFus78442_2328|\n",
    "        # but we only need the first two elements (\\\"fig and 1240239.3.peg.2328\\\") to make fig|1240239.3.peg.2328\n",
    "         # We then use this ID to merge back onto the original dataframe (basically we say if this row has this ID, add the sequence to that row)\n",
    "         #Fancy way of extracting the ID\n",
    "        ids.append(\\\"|\\\".join(record.id.split(\\\"|\\\")[0:2]))\n",
    "        #Fancy way of extracting the sequence\n",
    "        seqs.append(str(record.seq))\n",
    "    #making a new dataframe from this info\n",
    "    seq_df = pd.DataFrame.from_dict({\\\"PATRIC ID\\\": ids, \\\"Sequences\\\":seqs})\n",
    "    print(seq_df.head())\n",
    "    #Mergine back and saving\n",
    "    df = df.merge(seq_df, on=\\\"PATRIC ID\\\")\n",
    "    df.to_csv(\\\"/Users/mark/Downloads/blast_results_merged.csv\\\")"
   ]
  },
  {
   "cell_type": "code",
   "execution_count": null,
   "metadata": {},
   "outputs": [],
   "source": [
    "import time\n",
    "    sigs = []\n",
    "    for i in df[\\\"Sequences\\\"].values:\n",
    "        handle = ScanProsite.scan(seq=i)\n",
    "        result = ScanProsite.read(handle)\n",
    "        qq = []\n",
    "        for i in result:\n",
    "            print(i)\n",
    "            qq.append(i[\\\"signature_ac\\\"])\n",
    "        time.sleep(5)\n",
    "        qq = set(qq)\n",
    "        sigs.append(qq)\n",
    "    df[\\\"Prosite results\\\"] = sigs\n",
    "    df.to_csv(\\\"/Users/mark/Downloads/blast_results_merged_motifs.csv\\\")"
   ]
  }
 ],
 "metadata": {
  "kernelspec": {
   "display_name": "Python 3",
   "language": "python",
   "name": "python3"
  },
  "language_info": {
   "codemirror_mode": {
    "name": "ipython",
    "version": 3
   },
   "file_extension": ".py",
   "mimetype": "text/x-python",
   "name": "python",
   "nbconvert_exporter": "python",
   "pygments_lexer": "ipython3",
   "version": "3.8.3"
  }
 },
 "nbformat": 4,
 "nbformat_minor": 4
}
